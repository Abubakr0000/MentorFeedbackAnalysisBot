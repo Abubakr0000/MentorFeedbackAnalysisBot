{
 "cells": [
  {
   "cell_type": "code",
   "execution_count": 60,
   "metadata": {
    "collapsed": true,
    "pycharm": {
     "name": "#%%\n"
    }
   },
   "outputs": [],
   "source": [
    "import pandas as pd\n",
    "import numpy as np\n",
    "import datetime\n",
    "import random\n",
    "import matplotlib.pyplot as plt\n",
    "from operator import itemgetter\n",
    "plt.style.use(\"dark_background\")\n",
    "for param in ['text.color', 'axes.labelcolor', 'xtick.color', 'ytick.color']:\n",
    "    plt.rcParams[param] = '0.9'  # very light grey\n",
    "for param in ['figure.facecolor', 'axes.facecolor', 'savefig.facecolor']:\n",
    "    plt.rcParams[param] = '#212946'  # bluish dark grey"
   ]
  },
  {
   "cell_type": "code",
   "execution_count": 61,
   "outputs": [],
   "source": [
    "columns = [ \"Date\", \"Mentor\", \"Qoniqarsiz\", \"Qoniqarli\", \"Namunali\"]\n",
    "mentor_name = [ \"Azodov Sarvar\", \"Olloyorov Sirojiddin\", \"Rasulov Rahmatulloh\", \"Shomurodov Sarvarbek\", \"Shukurov Jasur\", \"Azizova Aziza\", \"Arslanova Nodira\", \"Alimbayeva Asalbonu\", \"Abdulaziz\" ]\n",
    "qoniqarsiz = [\"Mentor o'z vaqtida ish joyida yo'q\", \"Mentor umuman yordam bera olmadi\", \"Mentor yordam berishdan bosh tortdi\"]\n",
    "qoniqarli = [\"Mentor ish joyiga kech keldi\", \"Mentor savolimga toliq jovob berolmadi\", \"Mentor javob berdi ammo muomilasizlik blan\"]\n",
    "namunali = [\"Mentor barcha savoimga javob berdi\", \"Mentor juda ham yaxshi tushuntirdi\", \"Mentor yangicha va qiziqarli usulda taqdimot qilib tushuntirdi\"]\n",
    "baxo = {\"Qoniqarsiz\":qoniqarsiz,\"Qoniqarli\":qoniqarli, \"Namunali\":namunali }"
   ],
   "metadata": {
    "collapsed": false,
    "pycharm": {
     "name": "#%%\n"
    }
   }
  },
  {
   "cell_type": "code",
   "execution_count": 62,
   "outputs": [],
   "source": [
    "# def real_date_get():                        # search date = datetime.datetime(2022, 6, 1)   # 1-year, 2-mounth, 3-day\n",
    "#     day = datetime.datetime.now()           # left = datetime.datetime(2022, 6, 1)\n",
    "#     return day                              # right = datetime.datetime(2022, 6, 1)\n",
    "def real_date_get():\n",
    "    a = random.randint(1, 28)\n",
    "    b = random.randint(1, 12)\n",
    "    x = datetime.datetime(2022, b, a)\n",
    "    return x"
   ],
   "metadata": {
    "collapsed": false,
    "pycharm": {
     "name": "#%%\n"
    }
   }
  },
  {
   "cell_type": "code",
   "execution_count": 63,
   "outputs": [
    {
     "data": {
      "text/plain": "          Date                Mentor                           Qoniqarsiz  \\\n0   2022-07-23         Azodov Sarvar                                  NaN   \n1   2022-09-10  Olloyorov Sirojiddin                                  NaN   \n2   2022-09-12  Olloyorov Sirojiddin                                  NaN   \n3   2022-11-22  Olloyorov Sirojiddin                                  NaN   \n4   2022-12-25   Rasulov Rahmatulloh   Mentor o'z vaqtida ish joyida yo'q   \n..         ...                   ...                                  ...   \n995 2022-07-02   Alimbayeva Asalbonu                                  NaN   \n996 2022-08-19             Abdulaziz     Mentor umuman yordam bera olmadi   \n997 2022-06-10   Alimbayeva Asalbonu  Mentor yordam berishdan bosh tortdi   \n998 2022-05-22   Alimbayeva Asalbonu   Mentor o'z vaqtida ish joyida yo'q   \n999 2022-01-02  Shomurodov Sarvarbek  Mentor yordam berishdan bosh tortdi   \n\n                                  Qoniqarli  \\\n0              Mentor ish joyiga kech keldi   \n1                                       NaN   \n2    Mentor savolimga toliq jovob berolmadi   \n3    Mentor savolimga toliq jovob berolmadi   \n4                                       NaN   \n..                                      ...   \n995                                     NaN   \n996                                     NaN   \n997                                     NaN   \n998                                     NaN   \n999                                     NaN   \n\n                               Namunali  \n0                                   NaN  \n1    Mentor juda ham yaxshi tushuntirdi  \n2                                   NaN  \n3                                   NaN  \n4                                   NaN  \n..                                  ...  \n995  Mentor juda ham yaxshi tushuntirdi  \n996                                 NaN  \n997                                 NaN  \n998                                 NaN  \n999                                 NaN  \n\n[1000 rows x 5 columns]",
      "text/html": "<div>\n<style scoped>\n    .dataframe tbody tr th:only-of-type {\n        vertical-align: middle;\n    }\n\n    .dataframe tbody tr th {\n        vertical-align: top;\n    }\n\n    .dataframe thead th {\n        text-align: right;\n    }\n</style>\n<table border=\"1\" class=\"dataframe\">\n  <thead>\n    <tr style=\"text-align: right;\">\n      <th></th>\n      <th>Date</th>\n      <th>Mentor</th>\n      <th>Qoniqarsiz</th>\n      <th>Qoniqarli</th>\n      <th>Namunali</th>\n    </tr>\n  </thead>\n  <tbody>\n    <tr>\n      <th>0</th>\n      <td>2022-07-23</td>\n      <td>Azodov Sarvar</td>\n      <td>NaN</td>\n      <td>Mentor ish joyiga kech keldi</td>\n      <td>NaN</td>\n    </tr>\n    <tr>\n      <th>1</th>\n      <td>2022-09-10</td>\n      <td>Olloyorov Sirojiddin</td>\n      <td>NaN</td>\n      <td>NaN</td>\n      <td>Mentor juda ham yaxshi tushuntirdi</td>\n    </tr>\n    <tr>\n      <th>2</th>\n      <td>2022-09-12</td>\n      <td>Olloyorov Sirojiddin</td>\n      <td>NaN</td>\n      <td>Mentor savolimga toliq jovob berolmadi</td>\n      <td>NaN</td>\n    </tr>\n    <tr>\n      <th>3</th>\n      <td>2022-11-22</td>\n      <td>Olloyorov Sirojiddin</td>\n      <td>NaN</td>\n      <td>Mentor savolimga toliq jovob berolmadi</td>\n      <td>NaN</td>\n    </tr>\n    <tr>\n      <th>4</th>\n      <td>2022-12-25</td>\n      <td>Rasulov Rahmatulloh</td>\n      <td>Mentor o'z vaqtida ish joyida yo'q</td>\n      <td>NaN</td>\n      <td>NaN</td>\n    </tr>\n    <tr>\n      <th>...</th>\n      <td>...</td>\n      <td>...</td>\n      <td>...</td>\n      <td>...</td>\n      <td>...</td>\n    </tr>\n    <tr>\n      <th>995</th>\n      <td>2022-07-02</td>\n      <td>Alimbayeva Asalbonu</td>\n      <td>NaN</td>\n      <td>NaN</td>\n      <td>Mentor juda ham yaxshi tushuntirdi</td>\n    </tr>\n    <tr>\n      <th>996</th>\n      <td>2022-08-19</td>\n      <td>Abdulaziz</td>\n      <td>Mentor umuman yordam bera olmadi</td>\n      <td>NaN</td>\n      <td>NaN</td>\n    </tr>\n    <tr>\n      <th>997</th>\n      <td>2022-06-10</td>\n      <td>Alimbayeva Asalbonu</td>\n      <td>Mentor yordam berishdan bosh tortdi</td>\n      <td>NaN</td>\n      <td>NaN</td>\n    </tr>\n    <tr>\n      <th>998</th>\n      <td>2022-05-22</td>\n      <td>Alimbayeva Asalbonu</td>\n      <td>Mentor o'z vaqtida ish joyida yo'q</td>\n      <td>NaN</td>\n      <td>NaN</td>\n    </tr>\n    <tr>\n      <th>999</th>\n      <td>2022-01-02</td>\n      <td>Shomurodov Sarvarbek</td>\n      <td>Mentor yordam berishdan bosh tortdi</td>\n      <td>NaN</td>\n      <td>NaN</td>\n    </tr>\n  </tbody>\n</table>\n<p>1000 rows × 5 columns</p>\n</div>"
     },
     "execution_count": 63,
     "metadata": {},
     "output_type": "execute_result"
    }
   ],
   "source": [
    "def feak_dataset():\n",
    "    data1 = []\n",
    "    for x in range(1000):\n",
    "        rm_date = real_date_get()\n",
    "        rm_mentor = random.choice(mentor_name)\n",
    "        ball_name = random.choice(list( baxo.keys() ))\n",
    "        ball_value = random.choice ( baxo[ball_name] )\n",
    "        data1.append( { \"Date\":rm_date, \"Mentor\":rm_mentor, ball_name:ball_value,} )\n",
    "    return pd.DataFrame(data=data1, columns=columns)\n",
    "data = feak_dataset()\n",
    "data"
   ],
   "metadata": {
    "collapsed": false,
    "pycharm": {
     "name": "#%%\n"
    }
   }
  },
  {
   "cell_type": "code",
   "execution_count": 64,
   "outputs": [],
   "source": [
    "# Kiritilgan sana boyicha mentorni datasetini olish\n",
    "def date_get(mentor, left=None, right=None):\n",
    "    mentor = data[ data[\"Mentor\"] == mentor ]\n",
    "    if left:\n",
    "        mentor = mentor[data[\"Date\"] >= left ]\n",
    "    if right:\n",
    "        mentor =  mentor[data[\"Date\"] <= right ]\n",
    "    return mentor.sort_values(by='Date')"
   ],
   "metadata": {
    "collapsed": false,
    "pycharm": {
     "name": "#%%\n"
    }
   }
  },
  {
   "cell_type": "code",
   "execution_count": 65,
   "outputs": [],
   "source": [
    "# Mentorlarni Qoniqarsiz hulosalarini olish\n",
    "def qoniqarsiz_hulosa_olish( mentor_data ):\n",
    "    iw_joyi = len( mentor_data[ mentor_data[\"Qoniqarsiz\"] == qoniqarsiz[0] ] )\n",
    "    yordam_berwdan_bow = len( mentor_data[ mentor_data[\"Qoniqarsiz\"] == qoniqarsiz[1] ] )\n",
    "    yordam_berolmadi = len( mentor_data[ mentor_data[\"Qoniqarsiz\"] == qoniqarsiz[2] ] )\n",
    "    return pd.DataFrame([[iw_joyi ,yordam_berwdan_bow,yordam_berolmadi]], columns=[\"Mentor o'z vaqtida ish joyida yo'q\", \"Mentor yordam berishdan bosh tortdi\", \"Mentor umuman yordam bera olmadi\"])"
   ],
   "metadata": {
    "collapsed": false,
    "pycharm": {
     "name": "#%%\n"
    }
   }
  },
  {
   "cell_type": "code",
   "execution_count": 66,
   "outputs": [],
   "source": [
    "# Mentorlarni Qoniqarli hulosalarini olish\n",
    "def qoniqarli_hulosa_olish( mentor_data ):\n",
    "    iw_joyi_kech_keldi = len( mentor_data[ mentor_data[\"Qoniqarli\"] == qoniqarli[0]] )\n",
    "    toliq_javob_bermadi = len( mentor_data[ mentor_data[\"Qoniqarli\"] == qoniqarli[1]] )\n",
    "    muomlasizlik = len( mentor_data[ mentor_data[\"Qoniqarli\"] == qoniqarli[2]] )\n",
    "    return pd.DataFrame([[iw_joyi_kech_keldi ,toliq_javob_bermadi,muomlasizlik]], columns=[qoniqarli[0], qoniqarli[1], qoniqarli[2]])"
   ],
   "metadata": {
    "collapsed": false,
    "pycharm": {
     "name": "#%%\n"
    }
   }
  },
  {
   "cell_type": "code",
   "execution_count": 67,
   "outputs": [],
   "source": [
    "# Mentorlarni Namunali hulosalarini olish\n",
    "def namunali_hulosa_olish( mentor_data ):\n",
    "    javob = len( mentor_data[ mentor_data[\"Namunali\"] == namunali[0]] )\n",
    "    yaxw_javob = len( mentor_data[ mentor_data[\"Namunali\"] == namunali[1]] )\n",
    "    zor_javob = len( mentor_data[ mentor_data[\"Namunali\"] == namunali[2]] )\n",
    "    return pd.DataFrame([[javob ,yaxw_javob,zor_javob]], columns=[namunali[0], namunali[1], namunali[2]])"
   ],
   "metadata": {
    "collapsed": false,
    "pycharm": {
     "name": "#%%\n"
    }
   }
  },
  {
   "cell_type": "code",
   "execution_count": 68,
   "outputs": [],
   "source": [
    "# Mentorga qoyilgan reaksiyalarni hulosasini olish df shaklida\n",
    "def mentor_reaksiya_olish_df( mentor ):\n",
    "    q =  qoniqarsiz_hulosa_olish( mentor )\n",
    "    name = q.columns\n",
    "    Qoniqarsiz = int( q[ name[0] ].values +  q[ name[0] ].values  + q[ name[0] ].values )\n",
    "    q1 = qoniqarli_hulosa_olish( mentor)\n",
    "    name1 = q1.columns\n",
    "    Qoniqarli =   int( q1[name1[0]].values + q1[name1[1]].values + q1[name1[2]].values )\n",
    "    q2 = namunali_hulosa_olish( mentor )\n",
    "    name2 = q2.columns\n",
    "    Namunali = int( q2[ name2[0] ].values + q2[ name2[1] ].values + q2[ name2[2] ].values )\n",
    "    return pd.DataFrame ( [[Qoniqarsiz , Qoniqarli , Namunali]], columns=baxo.keys() )"
   ],
   "metadata": {
    "collapsed": false,
    "pycharm": {
     "name": "#%%\n"
    }
   }
  },
  {
   "cell_type": "code",
   "execution_count": 69,
   "outputs": [],
   "source": [
    "# Mentorni umumiy hulosasini ball shaklida olish\n",
    "def mentor_umumiy_hulosa_olish_ball( mentor_data ):\n",
    "    q =  qoniqarsiz_hulosa_olish( mentor_data )\n",
    "    name = q.columns\n",
    "    Qoniqarsiz =  ( -2 * q[ name[0] ].values ) + ( -3 *q[ name[0] ].values ) + ( -1 * q[ name[0] ].values )\n",
    "\n",
    "    q1 = qoniqarli_hulosa_olish( mentor_data )\n",
    "    name1 = q1.columns\n",
    "    Qoniqarli =   ( q1[name1[0]].values + q1[name1[1]].values + q1[name1[2]].values ) / 2\n",
    "\n",
    "    q2 = namunali_hulosa_olish( mentor_data )\n",
    "    name2 = q2.columns\n",
    "    Namunali = q2[ name2[0] ].values + ( q2[ name2[1] ].values * 2 ) + ( q2[ name2[2] ].values * 3 )\n",
    "\n",
    "    return Qoniqarsiz + Qoniqarli + Namunali"
   ],
   "metadata": {
    "collapsed": false,
    "pycharm": {
     "name": "#%%\n"
    }
   }
  },
  {
   "cell_type": "code",
   "execution_count": 70,
   "outputs": [],
   "source": [
    "# Barcha mentorlarni va ballarini yegish dict shaklida\n",
    "def all_ball( left=None, right=None):\n",
    "    data_dict = {}\n",
    "    for x in mentor_name:\n",
    "        all_data = date_get( x, left, right)\n",
    "        data_dict[x] = int( mentor_umumiy_hulosa_olish_ball( all_data ) )\n",
    "    return data_dict"
   ],
   "metadata": {
    "collapsed": false,
    "pycharm": {
     "name": "#%%\n"
    }
   }
  },
  {
   "cell_type": "code",
   "execution_count": 71,
   "outputs": [],
   "source": [
    "# Mentorni datasetini kirgazsa bar plot shaklida reaksiyani vizualizatsiya qiladi\n",
    "def vizual_mentor_bar(data1):\n",
    "    data2 = mentor_reaksiya_olish_df( data1 )\n",
    "    plt.style.use(\"dark_background\")\n",
    "    for param in ['text.color', 'axes.labelcolor', 'xtick.color', 'ytick.color']:\n",
    "        plt.rcParams[param] = '0.9'  # very light grey\n",
    "    for param in ['figure.facecolor', 'axes.facecolor', 'savefig.facecolor']:\n",
    "        plt.rcParams[param] = '#212946'  # bluish dark grey\n",
    "\n",
    "    plt.bar( [\"Qoniqarsiz\", \"Qoniqarli\", \"Namunali\"], [ int ( data2.Qoniqarsiz.values ) , int(  data2.Qoniqarli.values ),\n",
    "                                                      int( data2.Namunali.values )], 0.5 )\n",
    "    plt.show()"
   ],
   "metadata": {
    "collapsed": false,
    "pycharm": {
     "name": "#%%\n"
    }
   }
  },
  {
   "cell_type": "code",
   "execution_count": 72,
   "outputs": [],
   "source": [
    "# Kiritilgan sana boyicha harkunlik mentorni ballni olib beradi dict shaklida  ( keys=sana, values=ball )\n",
    "def all_date_get_ball(mentor,left=None, right=None ):\n",
    "    data_dict = {}\n",
    "    data1 = date_get(mentor,left=left, right=right )\n",
    "    data2 = data1.Date.unique()\n",
    "    for x in data2:\n",
    "        data_dict[x] = mentor_umumiy_hulosa_olish_ball( data1[data1[\"Date\"] == x] )\n",
    "    return data_dict"
   ],
   "metadata": {
    "collapsed": false,
    "pycharm": {
     "name": "#%%\n"
    }
   }
  },
  {
   "cell_type": "code",
   "execution_count": 73,
   "outputs": [],
   "source": [
    "# Mentorni vizualizatsiya qilish sana boyicha plot shaklida\n",
    "def vizual_plot(mentor,left=None, right=None ):\n",
    "    data_dict = all_date_get_ball(mentor,left=left, right=right )\n",
    "    keys = list( data_dict.keys() )\n",
    "    values = list( data_dict.values() )\n",
    "    plt.style.use(\"dark_background\")\n",
    "    for param in ['text.color', 'axes.labelcolor', 'xtick.color', 'ytick.color']:\n",
    "        plt.rcParams[param] = '0.9'  # very light grey\n",
    "    for param in ['figure.facecolor', 'axes.facecolor', 'savefig.facecolor']:\n",
    "        plt.rcParams[param] = '#212946'  # bluish dark grey\n",
    "    plt.figure(figsize = (20, 10))\n",
    "    plt.plot(keys, values,marker='o')\n",
    "    plt.grid(color='#2A3459')\n",
    "    plt.show()\n",
    "    # plt.savefig('/Users/student/PycharmProjects/Analiz_bot/plot.jpeg', bbox_inches='tight', transparent=True)"
   ],
   "metadata": {
    "collapsed": false,
    "pycharm": {
     "name": "#%%\n"
    }
   }
  },
  {
   "cell_type": "code",
   "execution_count": 74,
   "outputs": [],
   "source": [
    "def pie(mentor_name):\n",
    "    data1 = date_get(mentor_name)\n",
    "    data2 = mentor_reaksiya_olish_df( data1 )\n",
    "    mycolors = [\"red\", \"#0000CD\", \"green\"]\n",
    "    plt.pie( [ int ( data2.Qoniqarsiz.values ) , int(  data2.Qoniqarli.values ), int( data2.Namunali.values )],labels = [\"Qoniqarsiz\", \"Qoniqarli\", \"Namunali\"], colors=mycolors,autopct = '%1.1f%%' )\n",
    "    plt.xlabel('Mentorni umumiy analitikasi', fontweight ='bold', fontsize = 15)\n",
    "    # plt.show()\n",
    "    plt.savefig('/Users/student/PycharmProjects/bot/MentorFeedbackAnalysisBot/Analysis/imag/mentor_plot.png', bbox_inches='tight')\n",
    "    plt.close()"
   ],
   "metadata": {
    "collapsed": false,
    "pycharm": {
     "name": "#%%\n"
    }
   }
  },
  {
   "cell_type": "code",
   "execution_count": 75,
   "outputs": [],
   "source": [
    "def koment_bar(mentor_name):\n",
    "    data1 = date_get(mentor_name)\n",
    "    qoniqarsiz1 = qoniqarsiz_hulosa_olish(data1)\n",
    "    qoniqarli1 = qoniqarli_hulosa_olish(data1)\n",
    "    namunali1 = namunali_hulosa_olish(data1)\n",
    "    data_dict1 = {}\n",
    "    for x in qoniqarsiz1.columns:\n",
    "        data_dict1[x] = int( qoniqarsiz1[x].values )\n",
    "    for x in qoniqarli1.columns:\n",
    "        data_dict1[x] = int( qoniqarli1[x].values )\n",
    "    for x in namunali1.columns:\n",
    "        data_dict1[x] = int( namunali1[x].values )\n",
    "    keys = list( data_dict1.keys() )\n",
    "    values = list (data_dict1.values() )\n",
    "    plt.subplot()\n",
    "    plt.barh(keys[8], values[8] , 0.5, color='g')\n",
    "    plt.barh(keys[7], values[7] , 0.5, color='#00FF00')\n",
    "    plt.barh(keys[6], values[6] , 0.5, color='#32CD32')\n",
    "    plt.barh(keys[5], values[5] , 0.5, color='#9ACD32')\n",
    "    plt.barh(keys[4], values[4] , 0.5, color='#FFD700')\n",
    "    plt.barh(keys[3], values[3] , 0.5, color='#CD5C5C')\n",
    "    plt.barh(keys[1], values[1] , 0.5, color='#DC143C')\n",
    "    plt.barh(keys[2], values[2] , 0.5, color='r')\n",
    "    plt.barh(keys[0], values[0] , 0.5, color='#8B0000')\n",
    "    plt.xlabel('Mentorlarga bildirilgan komentariyalar analitikasi', fontweight ='bold', fontsize = 15)\n",
    "    # plt.show()\n",
    "    plt.savefig('/Users/student/PycharmProjects/bot/MentorFeedbackAnalysisBot/Analysis/imag/mentor_barh_plot.png', bbox_inches='tight')\n",
    "    plt.close()"
   ],
   "metadata": {
    "collapsed": false,
    "pycharm": {
     "name": "#%%\n"
    }
   }
  },
  {
   "cell_type": "code",
   "execution_count": 76,
   "outputs": [],
   "source": [
    "def all_bar_all(left=None, right=None):\n",
    "    result = {}\n",
    "    for x in mentor_name:\n",
    "        data1 =  date_get(x, left,right)\n",
    "        data2 = mentor_reaksiya_olish_df( data1 )\n",
    "        data3 = [ int(data2.Qoniqarsiz.values), int(data2.Qoniqarli.values), int(data2.Namunali.values) ]\n",
    "        result[x] = data3\n",
    "\n",
    "    data_dict = all_ball( left, right)\n",
    "    sort = dict ( sorted( data_dict.items(), key = itemgetter(1), reverse = False ) )\n",
    "    keys = list( sort.keys() )\n",
    "    values = list (sort.values() )\n",
    "    plt.style.use(\"dark_background\")\n",
    "    for param in ['text.color', 'axes.labelcolor', 'xtick.color', 'ytick.color']:\n",
    "        plt.rcParams[param] = '0.9'  # very light grey\n",
    "    for param in ['figure.facecolor', 'axes.facecolor', 'savefig.facecolor']:\n",
    "        plt.rcParams[param] = '#212946'  # bluish dark grey\n",
    "\n",
    "    fig, ax = plt.subplots(1,2,figsize=(20,5))\n",
    "    ax[0].barh(keys, values , 0.5, color='#6A5ACD')\n",
    "    ax[0].set_xlabel('Mentorlarni umumiy analitikasi', fontweight ='bold', fontsize = 15)\n",
    "\n",
    "    # set width of bar\n",
    "    barWidth = 0.25\n",
    "\n",
    "    # set height of bar\n",
    "    qoniqarsiz1 = [ x[0] for x in result.values() ]\n",
    "    qoniqarli1 = [ x[1] for x in result.values() ]\n",
    "    namunali1 = [ x[2] for x in result.values() ]\n",
    "\n",
    "    # Set position of bar on X axis\n",
    "    br1 = np.arange(len(qoniqarsiz1))\n",
    "    br2 = [x + barWidth for x in br1]\n",
    "    br3 = [x + barWidth for x in br2]\n",
    "\n",
    "    # Make the plot\n",
    "    ax[1].bar(br1, qoniqarsiz1, color ='r', width = barWidth, edgecolor ='grey', label ='Qoniqarsiz')\n",
    "    ax[1].bar(br2, qoniqarli1, color ='#00BFFF', width = barWidth, edgecolor ='grey', label ='Qoniqarli')\n",
    "    ax[1].bar(br3, namunali1, color ='#00FF00', width = barWidth, edgecolor ='grey', label ='Namunali')\n",
    "\n",
    "    # Adding Xticks\n",
    "    ax[1].set_xlabel('Mentorlarni umumiy analitikasi', fontweight ='bold', fontsize = 15)\n",
    "    ax[1].set_xticks([r + barWidth for r in range(len(qoniqarsiz1))], mentor_name ,rotation=90)\n",
    "    ax[1].legend()\n",
    "    # plt.show()\n",
    "    plt.savefig('/Users/student/PycharmProjects/bot/MentorFeedbackAnalysisBot/Analysis/imag/all_plots.png', bbox_inches='tight')\n",
    "    plt.close()"
   ],
   "metadata": {
    "collapsed": false,
    "pycharm": {
     "name": "#%%\n"
    }
   }
  },
  {
   "cell_type": "code",
   "execution_count": 76,
   "outputs": [],
   "source": [],
   "metadata": {
    "collapsed": false,
    "pycharm": {
     "name": "#%%\n"
    }
   }
  },
  {
   "cell_type": "code",
   "execution_count": 76,
   "outputs": [],
   "source": [],
   "metadata": {
    "collapsed": false,
    "pycharm": {
     "name": "#%%\n"
    }
   }
  },
  {
   "cell_type": "code",
   "execution_count": 59,
   "outputs": [],
   "source": [],
   "metadata": {
    "collapsed": false,
    "pycharm": {
     "name": "#%%\n"
    }
   }
  }
 ],
 "metadata": {
  "kernelspec": {
   "display_name": "Python 3",
   "language": "python",
   "name": "python3"
  },
  "language_info": {
   "codemirror_mode": {
    "name": "ipython",
    "version": 2
   },
   "file_extension": ".py",
   "mimetype": "text/x-python",
   "name": "python",
   "nbconvert_exporter": "python",
   "pygments_lexer": "ipython2",
   "version": "2.7.6"
  }
 },
 "nbformat": 4,
 "nbformat_minor": 0
}